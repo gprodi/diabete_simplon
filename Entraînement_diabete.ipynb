{
 "cells": [
  {
   "cell_type": "markdown",
   "id": "4f630757",
   "metadata": {},
   "source": [
    "ML 2 — Entraînement d’un modèle prédictif sur le diabète"
   ]
  },
  {
   "cell_type": "markdown",
   "id": "073a194b",
   "metadata": {},
   "source": [
    "🩺 1. Chargement et préparation des données"
   ]
  },
  {
   "cell_type": "code",
   "execution_count": 1,
   "id": "d5481a81",
   "metadata": {},
   "outputs": [],
   "source": [
    "import pandas as pd\n",
    "import numpy as np\n",
    "import joblib\n",
    "\n",
    "# Pour la modélisation et la préparation des données\n",
    "from sklearn.model_selection import train_test_split, cross_val_score\n",
    "from sklearn.preprocessing import LabelEncoder, StandardScaler\n",
    "from sklearn.ensemble import RandomForestClassifier\n",
    "from sklearn.pipeline import Pipeline\n",
    "from sklearn.compose import ColumnTransformer\n",
    "\n",
    "# Pour l'évaluation des performances\n",
    "from sklearn.metrics import classification_report, roc_auc_score, confusion_matrix, ConfusionMatrixDisplay\n",
    "\n",
    "import matplotlib.pyplot as plt\n",
    "import seaborn as sns\n",
    "sns.set_style(\"whitegrid\")\n",
    "plt.style.use(\"fivethirtyeight\")"
   ]
  },
  {
   "cell_type": "markdown",
   "id": "ca4f8285",
   "metadata": {},
   "source": [
    "⚙️ 2. Préparation du jeu d'entraînement et de test"
   ]
  },
  {
   "cell_type": "code",
   "execution_count": null,
   "id": "ae57ea53",
   "metadata": {},
   "outputs": [
    {
     "name": "stdout",
     "output_type": "stream",
     "text": [
      "--- 1. Configuration des chemins de fichiers ---\n",
      "\n",
      "--- 2. Chargement des ensembles Train et Test ---\n",
      "-> Encodage binaire (0/1) des colonnes textuelles du fichier de test...\n",
      "Aperçu des features encodées de Test :\n",
      "   age  gender  polyuria  polydipsia  sudden_weight_loss  weakness  \\\n",
      "0   50       0         0           0                   0         1   \n",
      "1   55       1         0           1                   0         1   \n",
      "2   67       1         1           1                   0         1   \n",
      "3   45       1         0           0                   0         0   \n",
      "4   37       1         0           0                   0         0   \n",
      "\n",
      "   polyphagia  genital_thrush  visual_blurring  itching  irritability  \\\n",
      "0           0               0                1        1             0   \n",
      "1           0               1                0        0             1   \n",
      "2           1               1                0        1             1   \n",
      "3           1               1                0        0             0   \n",
      "4           0               0                0        0             0   \n",
      "\n",
      "   delayed_healing  partial_paresis  muscle_stiffness  alopecia  obesity  \n",
      "0                1                0                 0         1        0  \n",
      "1                1                0                 0         1        0  \n",
      "2                0                1                 1         0        1  \n",
      "3                0                0                 0         0        0  \n",
      "4                0                0                 0         0        0  \n"
     ]
    }
   ],
   "source": [
    "print(\"--- 1. Configuration des chemins de fichiers ---\")\n",
    "OUTPUT_PREDICTIONS_FILE = 'predictions_test.csv'\n",
    "MODEL_ARTIFACT = 'modele_diabete_XX.pkl'  # <-- Remplacer XX par tes initiales\n",
    "\n",
    "print(\"\\n--- 2. Chargement des ensembles Train et Test ---\")\n",
    "\n",
    "try:\n",
    "    df_train = pd.read_csv('data/diabetes_clean.csv')\n",
    "    df_test_raw = pd.read_csv('data/test_without_class.csv')\n",
    "except FileNotFoundError as e:\n",
    "    print(f\"ERREUR : Fichier non trouvé - {e.filename}\")\n",
    "    exit()\n",
    "\n",
    "X_train_full = df_train.drop('class', axis=1)\n",
    "y_train_full = df_train['class']\n",
    "\n",
    "test_ids = df_test_raw['ID']\n",
    "X_test = df_test_raw.drop('ID', axis=1).copy()\n",
    "\n",
    "X_test.columns = [col.lower().replace(' ', '_') for col in X_test.columns]\n",
    "\n",
    "for col in X_test.columns:\n",
    "    if X_test[col].dtype == 'object':\n",
    "        if col == 'gender':\n",
    "            mapping = {'Female': 0, 'Male': 1}\n",
    "        else:\n",
    "            mapping = {'No': 0, 'Yes': 1}\n",
    "        X_test[col] = X_test[col].map(mapping)\n",
    "        X_test[col] = X_test[col].fillna(0).astype(int)\n",
    "\n",
    "assert X_test.select_dtypes(include='object').empty, \"Certaines colonnes du test ne sont pas numériques.\"\n",
    "print(\"Encodage du test terminé ✅\")"
   ]
  },
  {
   "cell_type": "markdown",
   "id": "d962bf31",
   "metadata": {},
   "source": [
    "# ============================================================\n",
    "# 3. PIPELINE DE PRÉTRAITEMENT ET ENTRAÎNEMENT FINAL\n",
    "# ============================================================"
   ]
  },
  {
   "cell_type": "code",
   "execution_count": 3,
   "id": "54221435",
   "metadata": {},
   "outputs": [
    {
     "name": "stdout",
     "output_type": "stream",
     "text": [
      "\n",
      "--- 3. Création et Entraînement du Pipeline Final ---\n",
      "Score moyen (CV=5) : 0.981\n",
      "✅ Entraînement final terminé sur l'ensemble complet.\n"
     ]
    }
   ],
   "source": [
    "print(\"\\n--- 3. Création et Entraînement du Pipeline Final ---\")\n",
    "\n",
    "# Standardisation : toutes les colonnes numériques\n",
    "numerical_features = X_train_full.select_dtypes(include=['int64', 'float64']).columns\n",
    "preprocessor = ColumnTransformer(\n",
    "    transformers=[\n",
    "        ('scaler', StandardScaler(), numerical_features)\n",
    "    ],\n",
    "    remainder='passthrough'\n",
    ")\n",
    "\n",
    "# Modèle amélioré Random Forest\n",
    "best_model = RandomForestClassifier(\n",
    "    n_estimators=500,\n",
    "    max_depth=None,\n",
    "    min_samples_split=2,\n",
    "    min_samples_leaf=1,\n",
    "    class_weight='balanced',\n",
    "    random_state=42\n",
    ")\n",
    "\n",
    "# Création du pipeline\n",
    "final_pipeline = Pipeline(steps=[\n",
    "    ('preprocessor', preprocessor),\n",
    "    ('classifier', best_model)\n",
    "])\n",
    "\n",
    "# Validation croisée pour évaluer la stabilité du modèle\n",
    "scores = cross_val_score(final_pipeline, X_train_full, y_train_full, cv=5)\n",
    "print(f\"Score moyen (CV=5) : {scores.mean():.3f}\")\n",
    "\n",
    "# Entraînement final sur tout le jeu d'entraînement\n",
    "final_pipeline.fit(X_train_full, y_train_full)\n",
    "print(\"✅ Entraînement final terminé sur l'ensemble complet.\")"
   ]
  }
 ],
 "metadata": {
  "kernelspec": {
   "display_name": ".diabete",
   "language": "python",
   "name": "python3"
  },
  "language_info": {
   "codemirror_mode": {
    "name": "ipython",
    "version": 3
   },
   "file_extension": ".py",
   "mimetype": "text/x-python",
   "name": "python",
   "nbconvert_exporter": "python",
   "pygments_lexer": "ipython3",
   "version": "3.13.7"
  }
 },
 "nbformat": 4,
 "nbformat_minor": 5
}
