{
 "cells": [
  {
   "cell_type": "markdown",
   "id": "c17bc7f1",
   "metadata": {},
   "source": [
    "# EDA"
   ]
  },
  {
   "cell_type": "markdown",
   "id": "b48b88a8",
   "metadata": {},
   "source": [
    "## charger les bibliotheque necessaire"
   ]
  },
  {
   "cell_type": "code",
   "execution_count": 1,
   "id": "ea27dc96",
   "metadata": {},
   "outputs": [],
   "source": [
    "import pandas as pd\n",
    "import numpy as np\n",
    "import matplotlib.pyplot as plt\n",
    "import seaborn as sns\n",
    "import warnings as wr\n",
    "wr.filterwarnings('ignore')"
   ]
  },
  {
   "cell_type": "markdown",
   "id": "2dd93255",
   "metadata": {},
   "source": [
    "## charger le CSV"
   ]
  },
  {
   "cell_type": "code",
   "execution_count": 2,
   "id": "998e739b",
   "metadata": {},
   "outputs": [
    {
     "name": "stdout",
     "output_type": "stream",
     "text": [
      "   ID  Age  Gender Polyuria Polydipsia sudden weight loss weakness Polyphagia  \\\n",
      "0   1   60  Female      Yes         No                Yes      Yes         No   \n",
      "1   2   85    Male      Yes        Yes                Yes      Yes        Yes   \n",
      "2   3   48    Male      Yes        Yes                Yes       No        Yes   \n",
      "3   4   41    Male      Yes        Yes                Yes      Yes        Yes   \n",
      "4   5   57    Male       No         No                 No       No        Yes   \n",
      "\n",
      "  Genital thrush visual blurring Itching Irritability delayed healing  \\\n",
      "0            Yes             Yes     Yes           No             Yes   \n",
      "1            Yes             Yes     Yes           No             Yes   \n",
      "2            Yes              No      No           No             Yes   \n",
      "3            Yes             Yes     Yes          Yes              No   \n",
      "4             No             Yes      No           No              No   \n",
      "\n",
      "  partial paresis muscle stiffness Alopecia Obesity     class  \n",
      "0             Yes              Yes       No     Yes  Positive  \n",
      "1             Yes              Yes       No      No  Positive  \n",
      "2              No               No       No      No  Positive  \n",
      "3              No               No       No     Yes  Positive  \n",
      "4              No              Yes       No      No  Negative  \n"
     ]
    }
   ],
   "source": [
    "df = pd.read_csv(\"data/train_with_id.csv\")\n",
    "print(df.head())"
   ]
  },
  {
   "cell_type": "markdown",
   "id": "8344a907",
   "metadata": {},
   "source": [
    "## Analyse des données"
   ]
  },
  {
   "cell_type": "markdown",
   "id": "8369fff7",
   "metadata": {},
   "source": [
    " df.shape() : Cette fonction permet de connaître le nombre de lignes (observations) et de colonnes (caractéristiques) du jeu de données. Elle donne un aperçu de sa taille et de sa structure."
   ]
  },
  {
   "cell_type": "code",
   "execution_count": 5,
   "id": "a0fc4c10",
   "metadata": {},
   "outputs": [
    {
     "data": {
      "text/plain": [
       "(416, 18)"
      ]
     },
     "execution_count": 5,
     "metadata": {},
     "output_type": "execute_result"
    }
   ],
   "source": [
    "df.shape"
   ]
  },
  {
   "cell_type": "markdown",
   "id": "c73e2c57",
   "metadata": {},
   "source": [
    "df.info() : Cette fonction nous aide à comprendre l'ensemble de données en affichant le nombre d'enregistrements dans chaque colonne, le type de données, si des valeurs manquent et la quantité de mémoire utilisée par l'ensemble de données."
   ]
  },
  {
   "cell_type": "code",
   "execution_count": 6,
   "id": "29fd6c17",
   "metadata": {},
   "outputs": [
    {
     "name": "stdout",
     "output_type": "stream",
     "text": [
      "<class 'pandas.core.frame.DataFrame'>\n",
      "RangeIndex: 416 entries, 0 to 415\n",
      "Data columns (total 18 columns):\n",
      " #   Column              Non-Null Count  Dtype \n",
      "---  ------              --------------  ----- \n",
      " 0   ID                  416 non-null    int64 \n",
      " 1   Age                 416 non-null    int64 \n",
      " 2   Gender              416 non-null    object\n",
      " 3   Polyuria            416 non-null    object\n",
      " 4   Polydipsia          416 non-null    object\n",
      " 5   sudden weight loss  416 non-null    object\n",
      " 6   weakness            416 non-null    object\n",
      " 7   Polyphagia          416 non-null    object\n",
      " 8   Genital thrush      416 non-null    object\n",
      " 9   visual blurring     416 non-null    object\n",
      " 10  Itching             416 non-null    object\n",
      " 11  Irritability        416 non-null    object\n",
      " 12  delayed healing     416 non-null    object\n",
      " 13  partial paresis     416 non-null    object\n",
      " 14  muscle stiffness    416 non-null    object\n",
      " 15  Alopecia            416 non-null    object\n",
      " 16  Obesity             416 non-null    object\n",
      " 17  class               416 non-null    object\n",
      "dtypes: int64(2), object(16)\n",
      "memory usage: 58.6+ KB\n"
     ]
    }
   ],
   "source": [
    "df.info()"
   ]
  },
  {
   "cell_type": "markdown",
   "id": "91717b59",
   "metadata": {},
   "source": [
    " df.describe().T : Cette méthode fournit un résumé statistique du DataFrame (Transpose) indiquant des valeurs telles que le nombre, la moyenne, l'écart type, le minimum et les quartiles pour chaque colonne numérique. Elle permet de synthétiser la tendance centrale et la dispersion des données."
   ]
  },
  {
   "cell_type": "code",
   "execution_count": 7,
   "id": "d9c5871d",
   "metadata": {},
   "outputs": [
    {
     "data": {
      "text/html": [
       "<div>\n",
       "<style scoped>\n",
       "    .dataframe tbody tr th:only-of-type {\n",
       "        vertical-align: middle;\n",
       "    }\n",
       "\n",
       "    .dataframe tbody tr th {\n",
       "        vertical-align: top;\n",
       "    }\n",
       "\n",
       "    .dataframe thead th {\n",
       "        text-align: right;\n",
       "    }\n",
       "</style>\n",
       "<table border=\"1\" class=\"dataframe\">\n",
       "  <thead>\n",
       "    <tr style=\"text-align: right;\">\n",
       "      <th></th>\n",
       "      <th>count</th>\n",
       "      <th>mean</th>\n",
       "      <th>std</th>\n",
       "      <th>min</th>\n",
       "      <th>25%</th>\n",
       "      <th>50%</th>\n",
       "      <th>75%</th>\n",
       "      <th>max</th>\n",
       "    </tr>\n",
       "  </thead>\n",
       "  <tbody>\n",
       "    <tr>\n",
       "      <th>ID</th>\n",
       "      <td>416.0</td>\n",
       "      <td>208.500000</td>\n",
       "      <td>120.233107</td>\n",
       "      <td>1.0</td>\n",
       "      <td>104.75</td>\n",
       "      <td>208.5</td>\n",
       "      <td>312.25</td>\n",
       "      <td>416.0</td>\n",
       "    </tr>\n",
       "    <tr>\n",
       "      <th>Age</th>\n",
       "      <td>416.0</td>\n",
       "      <td>47.963942</td>\n",
       "      <td>12.137412</td>\n",
       "      <td>16.0</td>\n",
       "      <td>38.75</td>\n",
       "      <td>48.0</td>\n",
       "      <td>57.00</td>\n",
       "      <td>90.0</td>\n",
       "    </tr>\n",
       "  </tbody>\n",
       "</table>\n",
       "</div>"
      ],
      "text/plain": [
       "     count        mean         std   min     25%    50%     75%    max\n",
       "ID   416.0  208.500000  120.233107   1.0  104.75  208.5  312.25  416.0\n",
       "Age  416.0   47.963942   12.137412  16.0   38.75   48.0   57.00   90.0"
      ]
     },
     "execution_count": 7,
     "metadata": {},
     "output_type": "execute_result"
    }
   ],
   "source": [
    "df.describe().T"
   ]
  },
  {
   "cell_type": "markdown",
   "id": "91cecc23",
   "metadata": {},
   "source": [
    "df.columns.tolist() : cela convertit les noms de colonnes du DataFrame en une liste Python, ce qui facilite l'accès et la manipulation des noms de colonnes."
   ]
  },
  {
   "cell_type": "code",
   "execution_count": 8,
   "id": "45f30d21",
   "metadata": {},
   "outputs": [
    {
     "data": {
      "text/plain": [
       "['ID',\n",
       " 'Age',\n",
       " 'Gender',\n",
       " 'Polyuria',\n",
       " 'Polydipsia',\n",
       " 'sudden weight loss',\n",
       " 'weakness',\n",
       " 'Polyphagia',\n",
       " 'Genital thrush',\n",
       " 'visual blurring',\n",
       " 'Itching',\n",
       " 'Irritability',\n",
       " 'delayed healing',\n",
       " 'partial paresis',\n",
       " 'muscle stiffness',\n",
       " 'Alopecia',\n",
       " 'Obesity',\n",
       " 'class']"
      ]
     },
     "execution_count": 8,
     "metadata": {},
     "output_type": "execute_result"
    }
   ],
   "source": [
    "df.columns.tolist()"
   ]
  },
  {
   "cell_type": "markdown",
   "id": "bab5f527",
   "metadata": {},
   "source": [
    "df.isnull().sum() : Cela vérifie les valeurs manquantes dans chaque colonne et renvoie le nombre total de valeurs nulles par colonne, ce qui nous aide à identifier les lacunes dans nos données."
   ]
  },
  {
   "cell_type": "code",
   "execution_count": 15,
   "id": "16d360c0",
   "metadata": {},
   "outputs": [
    {
     "data": {
      "text/plain": [
       "frequence_signes    0\n",
       "dtype: int64"
      ]
     },
     "execution_count": 15,
     "metadata": {},
     "output_type": "execute_result"
    }
   ],
   "source": [
    "df.isnull().sum()"
   ]
  },
  {
   "cell_type": "markdown",
   "id": "47da1aca",
   "metadata": {},
   "source": [
    "df.nunique() : cette fonction nous indique combien de valeurs uniques existent dans chaque colonne, ce qui donne un aperçu de la variété des données dans chaque fonctionnalité."
   ]
  },
  {
   "cell_type": "code",
   "execution_count": 16,
   "id": "7d1fd1e2",
   "metadata": {},
   "outputs": [
    {
     "data": {
      "text/plain": [
       "frequence_signes    3\n",
       "dtype: int64"
      ]
     },
     "execution_count": 16,
     "metadata": {},
     "output_type": "execute_result"
    }
   ],
   "source": [
    "df.nunique()"
   ]
  },
  {
   "cell_type": "markdown",
   "id": "619b30eb",
   "metadata": {},
   "source": [
    "# Extraction et préparation d'un dataset sur le diabète"
   ]
  },
  {
   "cell_type": "markdown",
   "id": "878f0f89",
   "metadata": {},
   "source": [
    "Import des bibliothèques"
   ]
  },
  {
   "cell_type": "code",
   "execution_count": 5,
   "id": "a2f1808c",
   "metadata": {},
   "outputs": [],
   "source": [
    "import pandas as pd\n",
    "from sklearn.model_selection import train_test_split\n",
    "from sklearn.preprocessing import LabelEncoder, StandardScaler\n"
   ]
  },
  {
   "cell_type": "markdown",
   "id": "dceae7ca",
   "metadata": {},
   "source": [
    "Chargement du dataset\n",
    "\n",
    "Si ton dataset est un fichier CSV, par exemple train_with_id.csv :"
   ]
  },
  {
   "cell_type": "code",
   "execution_count": 16,
   "id": "5ff0519a",
   "metadata": {},
   "outputs": [
    {
     "name": "stdout",
     "output_type": "stream",
     "text": [
      "   ID  Age  Gender Polyuria Polydipsia sudden weight loss weakness Polyphagia  \\\n",
      "0   1   60  Female      Yes         No                Yes      Yes         No   \n",
      "1   2   85    Male      Yes        Yes                Yes      Yes        Yes   \n",
      "2   3   48    Male      Yes        Yes                Yes       No        Yes   \n",
      "3   4   41    Male      Yes        Yes                Yes      Yes        Yes   \n",
      "4   5   57    Male       No         No                 No       No        Yes   \n",
      "\n",
      "  Genital thrush visual blurring Itching Irritability delayed healing  \\\n",
      "0            Yes             Yes     Yes           No             Yes   \n",
      "1            Yes             Yes     Yes           No             Yes   \n",
      "2            Yes              No      No           No             Yes   \n",
      "3            Yes             Yes     Yes          Yes              No   \n",
      "4             No             Yes      No           No              No   \n",
      "\n",
      "  partial paresis muscle stiffness Alopecia Obesity     class  \n",
      "0             Yes              Yes       No     Yes  Positive  \n",
      "1             Yes              Yes       No      No  Positive  \n",
      "2              No               No       No      No  Positive  \n",
      "3              No               No       No     Yes  Positive  \n",
      "4              No              Yes       No      No  Negative  \n"
     ]
    }
   ],
   "source": [
    "df = pd.read_csv(\"data/train_with_id.csv\")\n",
    "\n",
    "# Afficher les 5 premières lignes pour vérifier que le fichier est bien chargé\n",
    "print(df.head())"
   ]
  },
  {
   "cell_type": "markdown",
   "id": "1563f286",
   "metadata": {},
   "source": [
    "Analyse rapide des données"
   ]
  },
  {
   "cell_type": "code",
   "execution_count": 15,
   "id": "cb27ad9a",
   "metadata": {},
   "outputs": [
    {
     "name": "stdout",
     "output_type": "stream",
     "text": [
      "<class 'pandas.core.frame.DataFrame'>\n",
      "RangeIndex: 416 entries, 0 to 415\n",
      "Data columns (total 18 columns):\n",
      " #   Column              Non-Null Count  Dtype  \n",
      "---  ------              --------------  -----  \n",
      " 0   ID                  416 non-null    int64  \n",
      " 1   Age                 416 non-null    int64  \n",
      " 2   Gender              0 non-null      float64\n",
      " 3   Polyuria            0 non-null      float64\n",
      " 4   Polydipsia          0 non-null      float64\n",
      " 5   sudden weight loss  0 non-null      float64\n",
      " 6   weakness            0 non-null      float64\n",
      " 7   Polyphagia          0 non-null      float64\n",
      " 8   Genital thrush      0 non-null      float64\n",
      " 9   visual blurring     0 non-null      float64\n",
      " 10  Itching             0 non-null      float64\n",
      " 11  Irritability        0 non-null      float64\n",
      " 12  delayed healing     0 non-null      float64\n",
      " 13  partial paresis     0 non-null      float64\n",
      " 14  muscle stiffness    0 non-null      float64\n",
      " 15  Alopecia            0 non-null      float64\n",
      " 16  Obesity             0 non-null      float64\n",
      " 17  class               0 non-null      float64\n",
      "dtypes: float64(16), int64(2)\n",
      "memory usage: 58.6 KB\n",
      "None\n",
      "               ID         Age  Gender  Polyuria  Polydipsia  \\\n",
      "count  416.000000  416.000000     0.0       0.0         0.0   \n",
      "mean   208.500000   47.963942     NaN       NaN         NaN   \n",
      "std    120.233107   12.137412     NaN       NaN         NaN   \n",
      "min      1.000000   16.000000     NaN       NaN         NaN   \n",
      "25%    104.750000   38.750000     NaN       NaN         NaN   \n",
      "50%    208.500000   48.000000     NaN       NaN         NaN   \n",
      "75%    312.250000   57.000000     NaN       NaN         NaN   \n",
      "max    416.000000   90.000000     NaN       NaN         NaN   \n",
      "\n",
      "       sudden weight loss  weakness  Polyphagia  Genital thrush  \\\n",
      "count                 0.0       0.0         0.0             0.0   \n",
      "mean                  NaN       NaN         NaN             NaN   \n",
      "std                   NaN       NaN         NaN             NaN   \n",
      "min                   NaN       NaN         NaN             NaN   \n",
      "25%                   NaN       NaN         NaN             NaN   \n",
      "50%                   NaN       NaN         NaN             NaN   \n",
      "75%                   NaN       NaN         NaN             NaN   \n",
      "max                   NaN       NaN         NaN             NaN   \n",
      "\n",
      "       visual blurring  Itching  Irritability  delayed healing  \\\n",
      "count              0.0      0.0           0.0              0.0   \n",
      "mean               NaN      NaN           NaN              NaN   \n",
      "std                NaN      NaN           NaN              NaN   \n",
      "min                NaN      NaN           NaN              NaN   \n",
      "25%                NaN      NaN           NaN              NaN   \n",
      "50%                NaN      NaN           NaN              NaN   \n",
      "75%                NaN      NaN           NaN              NaN   \n",
      "max                NaN      NaN           NaN              NaN   \n",
      "\n",
      "       partial paresis  muscle stiffness  Alopecia  Obesity  class  \n",
      "count              0.0               0.0       0.0      0.0    0.0  \n",
      "mean               NaN               NaN       NaN      NaN    NaN  \n",
      "std                NaN               NaN       NaN      NaN    NaN  \n",
      "min                NaN               NaN       NaN      NaN    NaN  \n",
      "25%                NaN               NaN       NaN      NaN    NaN  \n",
      "50%                NaN               NaN       NaN      NaN    NaN  \n",
      "75%                NaN               NaN       NaN      NaN    NaN  \n",
      "max                NaN               NaN       NaN      NaN    NaN  \n",
      "ID                      0\n",
      "Age                     0\n",
      "Gender                416\n",
      "Polyuria              416\n",
      "Polydipsia            416\n",
      "sudden weight loss    416\n",
      "weakness              416\n",
      "Polyphagia            416\n",
      "Genital thrush        416\n",
      "visual blurring       416\n",
      "Itching               416\n",
      "Irritability          416\n",
      "delayed healing       416\n",
      "partial paresis       416\n",
      "muscle stiffness      416\n",
      "Alopecia              416\n",
      "Obesity               416\n",
      "class                 416\n",
      "dtype: int64\n"
     ]
    }
   ],
   "source": [
    "# Obtenir des informations générales : nombre de lignes, colonnes, types de données\n",
    "print(df.info())\n",
    "\n",
    "# Statistiques descriptives pour les colonnes numériques\n",
    "print(df.describe())\n",
    "\n",
    "# Vérifier s'il y a des valeurs manquantes dans le dataset\n",
    "print(df.isnull().sum())"
   ]
  },
  {
   "cell_type": "markdown",
   "id": "0f807b68",
   "metadata": {},
   "source": [
    "Nettoyage / préparation des données"
   ]
  },
  {
   "cell_type": "code",
   "execution_count": 14,
   "id": "b96e9c29",
   "metadata": {},
   "outputs": [],
   "source": [
    "# Les colonnes binaires Oui/Non sont converties en 1/0\n",
    "colonnes_binaires = [\n",
    "    \"Polyuria\", \"Polydipsia\", \"sudden weight loss\", \"weakness\", \"Polyphagia\",\n",
    "    \"Genital thrush\", \"visual blurring\", \"Itching\", \"Irritability\",\n",
    "    \"delayed healing\", \"partial paresis\", \"muscle stiffness\", \"Alopecia\", \"Obesity\"\n",
    "]\n",
    "\n",
    "# Remplacement des valeurs \"Yes\" par 1 et \"No\" par 0\n",
    "for col in colonnes_binaires:\n",
    "    df[col] = df[col].map({\"Yes\": 1, \"No\": 0})\n",
    "\n",
    "# Encoder la colonne \"Gender\" : Male = 1, Female = 0\n",
    "df[\"Gender\"] = df[\"Gender\"].map({\"Male\": 1, \"Female\": 0})\n",
    "\n",
    "# Encoder la cible \"class\" : Positive = 1, Negative = 0\n",
    "df[\"class\"] = df[\"class\"].map({\"Positive\": 1, \"Negative\": 0})"
   ]
  },
  {
   "cell_type": "markdown",
   "id": "d7c70fc5",
   "metadata": {},
   "source": [
    "Séparer les features et la cible"
   ]
  },
  {
   "cell_type": "code",
   "execution_count": 13,
   "id": "297ca3fe",
   "metadata": {},
   "outputs": [],
   "source": [
    "X = df.drop(columns=[\"ID\", \"class\"])  # toutes les colonnes sauf ID et cible\n",
    "y = df[\"class\"]                       # colonne cible (ce que l'on veut prédire)\n"
   ]
  },
  {
   "cell_type": "markdown",
   "id": "21078aaa",
   "metadata": {},
   "source": [
    "Normalisation des données"
   ]
  },
  {
   "cell_type": "code",
   "execution_count": null,
   "id": "52f8c17f",
   "metadata": {},
   "outputs": [],
   "source": [
    "# Normalisation de la colonne Age pour avoir moyenne=0 et écart-type=1\n",
    "scaler = StandardScaler()\n",
    "X[\"Age\"] = scaler.fit_transform(X[[\"Age\"]])"
   ]
  },
  {
   "cell_type": "markdown",
   "id": "2b521a94",
   "metadata": {},
   "source": [
    "Séparation en datasets d’entraînement et de test"
   ]
  },
  {
   "cell_type": "code",
   "execution_count": null,
   "id": "1a11dd1b",
   "metadata": {},
   "outputs": [
    {
     "name": "stdout",
     "output_type": "stream",
     "text": [
      "Taille X_train: (332, 16)\n",
      "Taille X_test: (84, 16)\n"
     ]
    }
   ],
   "source": [
    "# 80% des données pour l'entraînement, 20% pour le test\n",
    "# stratify=y pour conserver la même proportion de classes dans train et test\n",
    "X_train, X_test, y_train, y_test = train_test_split(\n",
    "    X, y, test_size=0.2, random_state=42, stratify=y\n",
    ")\n",
    "\n",
    "# Vérifier la taille des datasets\n",
    "print(\"Taille X_train:\", X_train.shape)\n",
    "print(\"Taille X_test:\", X_test.shape)\n"
   ]
  },
  {
   "cell_type": "markdown",
   "id": "c26b369a",
   "metadata": {},
   "source": [
    "Sauvegarde de la version préparée du dataset"
   ]
  },
  {
   "cell_type": "code",
   "execution_count": 17,
   "id": "941007eb",
   "metadata": {},
   "outputs": [
    {
     "name": "stdout",
     "output_type": "stream",
     "text": [
      "Dataset préparé sauvegardé sous 'data/train_with_id_clean.csv'\n"
     ]
    }
   ],
   "source": [
    "# On recrée un DataFrame complet avec la cible pour sauvegarder\n",
    "df_prepared = X.copy()\n",
    "df_prepared[\"class\"] = y\n",
    "\n",
    "# Sauvegarder en CSV\n",
    "df_prepared.to_csv(\"data/train_with_id_clean.csv\", index=False)\n",
    "\n",
    "print(\"Dataset préparé sauvegardé sous 'data/train_with_id_clean.csv'\")"
   ]
  }
 ],
 "metadata": {
  "kernelspec": {
   "display_name": ".diabete",
   "language": "python",
   "name": "python3"
  },
  "language_info": {
   "codemirror_mode": {
    "name": "ipython",
    "version": 3
   },
   "file_extension": ".py",
   "mimetype": "text/x-python",
   "name": "python",
   "nbconvert_exporter": "python",
   "pygments_lexer": "ipython3",
   "version": "3.13.7"
  }
 },
 "nbformat": 4,
 "nbformat_minor": 5
}
