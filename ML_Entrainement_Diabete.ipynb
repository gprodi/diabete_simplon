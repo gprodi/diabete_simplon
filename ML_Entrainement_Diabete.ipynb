{
 "cells": [
  {
   "cell_type": "markdown",
   "id": "344bef65",
   "metadata": {},
   "source": [
    "## 1. IMPORTATION DES BIBLIOTHÈQUES NÉCESSAIRES"
   ]
  },
  {
   "cell_type": "code",
   "execution_count": 1,
   "id": "fc7c1b2b",
   "metadata": {},
   "outputs": [],
   "source": [
    "import pandas as pd\n",
    "import numpy as np\n",
    "import joblib\n",
    "\n",
    "# Pour la modélisation et la préparation des données\n",
    "from sklearn.model_selection import train_test_split\n",
    "from sklearn.preprocessing import LabelEncoder, StandardScaler\n",
    "from sklearn.linear_model import LogisticRegression\n",
    "from sklearn.ensemble import RandomForestClassifier\n",
    "from sklearn.pipeline import Pipeline\n",
    "from sklearn.compose import ColumnTransformer\n",
    "\n",
    "# Pour l'évaluation des performances\n",
    "from sklearn.metrics import classification_report, roc_auc_score, confusion_matrix, ConfusionMatrixDisplay\n",
    "\n",
    "import matplotlib.pyplot as plt\n",
    "import seaborn as sns\n",
    "sns.set_style(\"whitegrid\")\n",
    "plt.style.use(\"fivethirtyeight\")"
   ]
  },
  {
   "cell_type": "markdown",
   "id": "43562dcf",
   "metadata": {},
   "source": [
    "## 2. Chargement des données"
   ]
  },
  {
   "cell_type": "code",
   "execution_count": 2,
   "id": "122d04aa",
   "metadata": {},
   "outputs": [
    {
     "name": "stdout",
     "output_type": "stream",
     "text": [
      "--- 1. Configuration des chemins de fichiers ---\n"
     ]
    }
   ],
   "source": [
    "print(\"--- 1. Configuration des chemins de fichiers ---\")\n",
    "OUTPUT_PREDICTIONS_FILE = 'predictions_test.csv' \n",
    "MODEL_ARTIFACT = 'modele_diabete_XX.pkl'\n"
   ]
  },
  {
   "cell_type": "code",
   "execution_count": 3,
   "id": "72d812f2",
   "metadata": {},
   "outputs": [
    {
     "name": "stdout",
     "output_type": "stream",
     "text": [
      "\n",
      "--- 2. Chargement des ensembles Train et Test ---\n",
      "-> Encodage binaire (0/1) des colonnes textuelles du fichier de test...\n",
      "Aperçu des features encodées de Test (doivent être numériques) : \n",
      "   age  gender  polyuria  polydipsia  sudden_weight_loss  weakness  \\\n",
      "0   50       0         0           0                   0         1   \n",
      "1   55       1         0           1                   0         1   \n",
      "2   67       1         1           1                   0         1   \n",
      "3   45       1         0           0                   0         0   \n",
      "4   37       1         0           0                   0         0   \n",
      "\n",
      "   polyphagia  genital_thrush  visual_blurring  itching  irritability  \\\n",
      "0           0               0                1        1             0   \n",
      "1           0               1                0        0             1   \n",
      "2           1               1                0        1             1   \n",
      "3           1               1                0        0             0   \n",
      "4           0               0                0        0             0   \n",
      "\n",
      "   delayed_healing  partial_paresis  muscle_stiffness  alopecia  obesity  \n",
      "0                1                0                 0         1        0  \n",
      "1                1                0                 0         1        0  \n",
      "2                0                1                 1         0        1  \n",
      "3                0                0                 0         0        0  \n",
      "4                0                0                 0         0        0  \n"
     ]
    }
   ],
   "source": [
    "print(\"\\n--- 2. Chargement des ensembles Train et Test ---\")\n",
    "\n",
    "# Chargement du fichier d'entraînement (déjà nettoyé et encodé)\n",
    "try:\n",
    "    df_train = pd.read_csv('data/diabetes_clean.csv')\n",
    "    df_test_raw = pd.read_csv('data/test_without_class.csv')\n",
    "except FileNotFoundError as e:\n",
    "    print(f\"ERREUR : Fichier non trouvé - {e.filename}\")\n",
    "    exit()\n",
    "\n",
    "## --- Séparation X et y pour l'ENTRAINEMENT ---\n",
    "X_train_full = df_train.drop('class', axis=1)\n",
    "y_train_full = df_train['class']\n",
    "\n",
    "# --- Préparation de l'ensemble de TEST (X_test) ---\n",
    "test_ids = df_test_raw['ID'] \n",
    "X_test = df_test_raw.drop('ID', axis=1).copy() # X_test doit être une copie pour les modifications\n",
    "\n",
    "# Standardisation des noms de colonnes pour X_test (crucial pour l'alignement)\n",
    "X_test.columns = [col.lower().replace(' ', '_') for col in X_test.columns] \n",
    "\n",
    "\n",
    "# --- ENCODAGE DU FICHIER TEST EN BINAIRE (LA NOUVELLE ÉTAPE) ---\n",
    "print(\"-> Encodage binaire (0/1) des colonnes textuelles du fichier de test...\")\n",
    "\n",
    "le = LabelEncoder()\n",
    "\n",
    "for col in X_test.columns:\n",
    "    if X_test[col].dtype == 'object':\n",
    "        \n",
    "        # Pour garantir le même mapping (ex: No->0, Yes->1), nous créons un mapping manuel\n",
    "        # basé sur les valeurs probables du diabète (crucial pour l'interprétabilité)\n",
    "        if col == 'gender':\n",
    "            # Le genre a un mapping inversé dans l'EDA (Male=1, Female=0)\n",
    "            mapping = {'Female': 0, 'Male': 1}\n",
    "        else:\n",
    "            # Tous les autres symptômes ont un mapping No=0, Yes=1\n",
    "            mapping = {'No': 0, 'Yes': 1}\n",
    "            \n",
    "        X_test[col] = X_test[col].map(mapping)\n",
    "        \n",
    "        # Remplacer les NaN (si jamais une valeur inattendue apparaissait) par 0\n",
    "        X_test[col] = X_test[col].fillna(0).astype(int)\n",
    "\n",
    "print(f\"Aperçu des features encodées de Test (doivent être numériques) : \\n{X_test.head()}\")\n"
   ]
  },
  {
   "cell_type": "markdown",
   "id": "e63baa63",
   "metadata": {},
   "source": [
    "## 3. PIPELINE DE PRÉTRAITEMENT ET ENTRAÎNEMENT FINAL"
   ]
  },
  {
   "cell_type": "code",
   "execution_count": 4,
   "id": "8175c5af",
   "metadata": {},
   "outputs": [
    {
     "name": "stdout",
     "output_type": "stream",
     "text": [
      "\n",
      "--- 3. Création et Entraînement du Pipeline Final ---\n",
      "Entraînement final sur l'ensemble complet terminé.\n"
     ]
    }
   ],
   "source": [
    "print(\"\\n--- 3. Création et Entraînement du Pipeline Final ---\")\n",
    "\n",
    "# Définition de la standardisation\n",
    "numerical_features = ['age']\n",
    "preprocessor = ColumnTransformer(\n",
    "    transformers=[\n",
    "        ('scaler', StandardScaler(), numerical_features)\n",
    "    ],\n",
    "    remainder='passthrough'\n",
    ")\n",
    "\n",
    "# Modèle de classification choisi (Random Forest)\n",
    "best_model = RandomForestClassifier(\n",
    "    n_estimators=100, \n",
    "    random_state=42, \n",
    "    class_weight='balanced'\n",
    ")\n",
    "\n",
    "# Création du pipeline complet\n",
    "final_pipeline = Pipeline(steps=[\n",
    "    ('preprocessor', preprocessor),\n",
    "    ('classifier', best_model)\n",
    "])\n",
    "\n",
    "# Entraînement du pipeline sur TOUTES les données d'entraînement disponibles\n",
    "final_pipeline.fit(X_train_full, y_train_full) \n",
    "print(\"Entraînement final sur l'ensemble complet terminé.\")"
   ]
  },
  {
   "cell_type": "markdown",
   "id": "a546a2e7",
   "metadata": {},
   "source": [
    "## 4. PRÉTRAITEMENT (SCALING) - UNIQUEMENT SUR LA COLONNE 'AGE'"
   ]
  },
  {
   "cell_type": "code",
   "execution_count": 5,
   "id": "002a3600",
   "metadata": {},
   "outputs": [
    {
     "name": "stdout",
     "output_type": "stream",
     "text": [
      "\n",
      "--- 4. Prédictions et Création du Fichier de Soumission ---\n",
      "Fichier de soumission créé avec succès : 'predictions_test.csv' avec la colonne 'class' en binaire (0/1).\n",
      "Artefact modèle sauvegardé : 'modele_diabete_XX.pkl'\n",
      "\n",
      "--- FIN DU SCRIPT ---\n"
     ]
    }
   ],
   "source": [
    "print(\"\\n--- 4. Prédictions et Création du Fichier de Soumission ---\")\n",
    "\n",
    "# Prédictions de classe. Le modèle prédit déjà 0 (Négatif) ou 1 (Positif).\n",
    "predictions_binary = final_pipeline.predict(X_test) \n",
    "\n",
    "# L'étape de reconversion en labels (Negative/Positive) est supprimée pour garder le format binaire.\n",
    "\n",
    "# Création du DataFrame de soumission (ID et class)\n",
    "submission_df = pd.DataFrame({\n",
    "    'ID': test_ids,\n",
    "    # Utilisation directe des prédictions binaires (0/1)\n",
    "    'class': predictions_binary \n",
    "})\n",
    "\n",
    "# Sauvegarde du fichier\n",
    "submission_df.to_csv(OUTPUT_PREDICTIONS_FILE, index=False)\n",
    "\n",
    "print(f\"Fichier de soumission créé avec succès : '{OUTPUT_PREDICTIONS_FILE}' avec la colonne 'class' en binaire (0/1).\")\n",
    "\n",
    "\n",
    "# --- SAUVEGARDE DU MODÈLE (LIVRABLE .pkl) ---\n",
    "joblib.dump(final_pipeline, MODEL_ARTIFACT)\n",
    "print(f\"Artefact modèle sauvegardé : '{MODEL_ARTIFACT}'\")\n",
    "print(\"\\n--- FIN DU SCRIPT ---\")"
   ]
  }
 ],
 "metadata": {
  "kernelspec": {
   "display_name": ".venv",
   "language": "python",
   "name": "python3"
  },
  "language_info": {
   "codemirror_mode": {
    "name": "ipython",
    "version": 3
   },
   "file_extension": ".py",
   "mimetype": "text/x-python",
   "name": "python",
   "nbconvert_exporter": "python",
   "pygments_lexer": "ipython3",
   "version": "3.13.7"
  }
 },
 "nbformat": 4,
 "nbformat_minor": 5
}
