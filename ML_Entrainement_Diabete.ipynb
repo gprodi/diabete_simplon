{
 "cells": [
  {
   "cell_type": "markdown",
   "id": "344bef65",
   "metadata": {},
   "source": [
    "## 1. IMPORTATION DES BIBLIOTHÈQUES NÉCESSAIRES"
   ]
  },
  {
   "cell_type": "code",
   "execution_count": 4,
   "id": "fc7c1b2b",
   "metadata": {},
   "outputs": [],
   "source": [
    "import pandas as pd\n",
    "import numpy as np\n",
    "import joblib\n",
    "\n",
    "# Pour la modélisation et la préparation des données\n",
    "from sklearn.model_selection import train_test_split\n",
    "from sklearn.preprocessing import LabelEncoder, StandardScaler\n",
    "from sklearn.linear_model import LogisticRegression\n",
    "from sklearn.ensemble import RandomForestClassifier\n",
    "from sklearn.pipeline import Pipeline\n",
    "from sklearn.compose import ColumnTransformer\n",
    "\n",
    "# Pour l'évaluation des performances\n",
    "from sklearn.metrics import classification_report, roc_auc_score, confusion_matrix, ConfusionMatrixDisplay\n",
    "\n",
    "import matplotlib.pyplot as plt\n",
    "import seaborn as sns\n",
    "sns.set_style(\"whitegrid\")\n",
    "plt.style.use(\"fivethirtyeight\")"
   ]
  },
  {
   "cell_type": "markdown",
   "id": "43562dcf",
   "metadata": {},
   "source": [
    "## 2. Chargement des données"
   ]
  },
  {
   "cell_type": "code",
   "execution_count": 7,
   "id": "72d812f2",
   "metadata": {},
   "outputs": [
    {
     "name": "stdout",
     "output_type": "stream",
     "text": [
      "--- 2. Chargement des données nettoyées et préparation ---\n",
      "Fichier 'diabetes_clean.csv' chargé avec succès.\n",
      "Features (X) : (416, 16)\n",
      "Cible (y) : (416,)\n"
     ]
    }
   ],
   "source": [
    "print(\"--- 2. Chargement des données nettoyées et préparation ---\")\n",
    "\n",
    "# Chargement du fichier CSV déjà nettoyé et encodé\n",
    "try:\n",
    "    df_clean = pd.read_csv('diabetes_clean.csv')\n",
    "    print(\"Fichier 'diabetes_clean.csv' chargé avec succès.\")\n",
    "except FileNotFoundError:\n",
    "    print(\"ERREUR : Le fichier 'diabetes_clean.csv' est introuvable. Assurez-vous qu'il est dans le répertoire de travail.\")\n",
    "    exit()\n",
    "\n",
    "# Séparation des features (X) et de la cible (y)\n",
    "X = df_clean.drop('class', axis=1)\n",
    "y = df_clean['class']\n",
    "\n",
    "print(f\"Features (X) : {X.shape}\")\n",
    "print(f\"Cible (y) : {y.shape}\")"
   ]
  },
  {
   "cell_type": "markdown",
   "id": "e63baa63",
   "metadata": {},
   "source": [
    "## 3. SPLIT DES DONNÉES (TRAIN/TEST)"
   ]
  },
  {
   "cell_type": "code",
   "execution_count": 8,
   "id": "8175c5af",
   "metadata": {},
   "outputs": [
    {
     "name": "stdout",
     "output_type": "stream",
     "text": [
      "\n",
      "--- 3. Split des données (Train/Test) ---\n",
      "Taille de l'ensemble d'entraînement : 332 échantillons\n",
      "Taille de l'ensemble de test : 84 échantillons\n"
     ]
    }
   ],
   "source": [
    "print(\"\\n--- 3. Split des données (Train/Test) ---\")\n",
    "\n",
    "# Séparation en ensembles d'entraînement (80%) et de test (20%)\n",
    "# stratify=y est crucial pour préserver la répartition des classes (Positive/Negative)\n",
    "X_train, X_test, y_train, y_test = train_test_split(\n",
    "    X, y, test_size=0.2, random_state=42, stratify=y\n",
    ")\n",
    "\n",
    "print(f\"Taille de l'ensemble d'entraînement : {X_train.shape[0]} échantillons\")\n",
    "print(f\"Taille de l'ensemble de test : {X_test.shape[0]} échantillons\")\n"
   ]
  },
  {
   "cell_type": "markdown",
   "id": "a546a2e7",
   "metadata": {},
   "source": [
    "## 4. PRÉTRAITEMENT (SCALING) - UNIQUEMENT SUR LA COLONNE 'AGE'"
   ]
  },
  {
   "cell_type": "code",
   "execution_count": 9,
   "id": "002a3600",
   "metadata": {},
   "outputs": [
    {
     "name": "stdout",
     "output_type": "stream",
     "text": [
      "\n",
      "--- 4. Standardisation de la colonne 'age' ---\n"
     ]
    }
   ],
   "source": [
    "print(\"\\n--- 4. Standardisation de la colonne 'age' ---\")\n",
    "\n",
    "# Définition des colonnes à transformer\n",
    "numerical_features = ['age']\n",
    "# Toutes les autres colonnes sont binaires (0/1) et n'ont pas besoin de scaling\n",
    "binary_features = X_train.columns.drop(numerical_features).tolist()\n",
    "\n",
    "# Création du préprocesseur pour appliquer StandardScaler uniquement à 'age'\n",
    "preprocessor = ColumnTransformer(\n",
    "    transformers=[\n",
    "        # Applique StandardScaler (Z-score normalisation) uniquement à la colonne 'age'\n",
    "        ('scaler', StandardScaler(), numerical_features)\n",
    "    ],\n",
    "    remainder='passthrough' # Laisse les colonnes binaires intactes\n",
    ")"
   ]
  },
  {
   "cell_type": "markdown",
   "id": "b555f021",
   "metadata": {},
   "source": [
    "## 5. ENTRAÎNEMENT DU MODÈLE (FORET ALÉATOIRE)"
   ]
  },
  {
   "cell_type": "code",
   "execution_count": 10,
   "id": "a990fc2c",
   "metadata": {},
   "outputs": [
    {
     "name": "stdout",
     "output_type": "stream",
     "text": [
      "\n",
      "--- 5. Entraînement du Modèle Final (Forêt Aléatoire) ---\n",
      "Pipeline d'entraînement terminé.\n"
     ]
    }
   ],
   "source": [
    "print(\"\\n--- 5. Entraînement du Modèle Final (Forêt Aléatoire) ---\")\n",
    "\n",
    "# Justification : La Forêt Aléatoire est choisie pour sa haute performance, \n",
    "# sa robustesse face au surapprentissage et sa capacité à gérer le déséquilibre \n",
    "# des classes avec 'class_weight'.\n",
    "\n",
    "# Définition du modèle final dans un Pipeline (pour inclure le préprocesseur)\n",
    "best_model = RandomForestClassifier(\n",
    "    n_estimators=100, \n",
    "    random_state=42, \n",
    "    class_weight='balanced' # Aide à compenser le léger déséquilibre des classes\n",
    ")\n",
    "\n",
    "# Création du pipeline complet : Préprocesseur -> Modèle\n",
    "final_pipeline = Pipeline(steps=[\n",
    "    ('preprocessor', preprocessor),\n",
    "    ('classifier', best_model)\n",
    "])\n",
    "\n",
    "# Entraînement du pipeline sur l'ensemble d'entraînement\n",
    "final_pipeline.fit(X_train, y_train)\n",
    "\n",
    "print(\"Pipeline d'entraînement terminé.\")"
   ]
  },
  {
   "cell_type": "markdown",
   "id": "66aeb27b",
   "metadata": {},
   "source": [
    "## 6. ÉVALUATION DES PERFORMANCES"
   ]
  },
  {
   "cell_type": "code",
   "execution_count": 11,
   "id": "e1031a6b",
   "metadata": {},
   "outputs": [
    {
     "name": "stdout",
     "output_type": "stream",
     "text": [
      "\n",
      "--- 6. Évaluation des Performances ---\n",
      "\n",
      "--- Rapport de Classification (Random Forest) ---\n",
      "              precision    recall  f1-score   support\n",
      "\n",
      "           0       0.97      0.94      0.95        32\n",
      "           1       0.96      0.98      0.97        52\n",
      "\n",
      "    accuracy                           0.96        84\n",
      "   macro avg       0.97      0.96      0.96        84\n",
      "weighted avg       0.96      0.96      0.96        84\n",
      "\n",
      "AUC (Area Under the Curve) : 0.9949\n",
      "Recall (Rappel/Sensibilité) pour la classe Positive : 0.9808\n",
      "F1-Score pour la classe Positive : 0.9714\n"
     ]
    },
    {
     "data": {
      "image/png": "[encoded data removed]",
      "text/plain": [
       "<Figure size 640x480 with 2 Axes>"
      ]
     },
     "metadata": {},
     "output_type": "display_data"
    }
   ],
   "source": [
    "print(\"\\n--- 6. Évaluation des Performances ---\")\n",
    "\n",
    "# Prédictions sur l'ensemble de test\n",
    "y_pred = final_pipeline.predict(X_test)\n",
    "y_proba = final_pipeline.predict_proba(X_test)[:, 1]\n",
    "\n",
    "# Métriques clés\n",
    "auc_score = roc_auc_score(y_test, y_proba)\n",
    "\n",
    "# Rapport de Classification (incluant Precision, Recall, F1)\n",
    "print(\"\\n--- Rapport de Classification (Random Forest) ---\")\n",
    "report = classification_report(y_test, y_pred, output_dict=True)\n",
    "print(classification_report(y_test, y_pred))\n",
    "\n",
    "# Affichage des métriques spécifiques demandées\n",
    "recall_positive = report['1']['recall'] # Rappel pour la classe Positive (1)\n",
    "f1_positive = report['1']['f1-score'] # F1 pour la classe Positive (1)\n",
    "\n",
    "print(f\"AUC (Area Under the Curve) : {auc_score:.4f}\")\n",
    "print(f\"Recall (Rappel/Sensibilité) pour la classe Positive : {recall_positive:.4f}\")\n",
    "print(f\"F1-Score pour la classe Positive : {f1_positive:.4f}\")\n",
    "\n",
    "# Affichage de la Matrice de Confusion\n",
    "cm = confusion_matrix(y_test, y_pred)\n",
    "disp = ConfusionMatrixDisplay(confusion_matrix=cm, display_labels=['Negative (0)', 'Positive (1)'])\n",
    "disp.plot(cmap=plt.cm.Blues)\n",
    "plt.title(\"Matrice de Confusion - Random Forest\")\n",
    "plt.show()\n"
   ]
  },
  {
   "cell_type": "markdown",
   "id": "71d8c95e",
   "metadata": {},
   "source": [
    "## 7. SAUVEGARDE DU MODÈLE (LIVRABLE .pkl)"
   ]
  },
  {
   "cell_type": "code",
   "execution_count": 12,
   "id": "a064fa0a",
   "metadata": {},
   "outputs": [
    {
     "name": "stdout",
     "output_type": "stream",
     "text": [
      "\n",
      "--- 7. Sauvegarde de l'Artefact Modèle (.pkl) ---\n",
      "Succès : L'artefact modèle a été sauvegardé sous le nom 'modele_diabete_XX.pkl'\n",
      "\n",
      "--- FIN DU PROJET ---\n"
     ]
    }
   ],
   "source": [
    "print(\"\\n--- 7. Sauvegarde de l'Artefact Modèle (.pkl) ---\")\n",
    "\n",
    "# Ré-entraînement sur l'ensemble complet des données (X et y) avant la sauvegarde finale (pratique courante)\n",
    "final_pipeline.fit(X, y)\n",
    "\n",
    "# Sauvegarde du pipeline complet (préprocesseur + modèle)\n",
    "artifact_filename = 'modele_diabete_XX.pkl' # 🚨 N'oubliez pas de remplacer XX par vos initiales\n",
    "joblib.dump(final_pipeline, artifact_filename)\n",
    "\n",
    "print(f\"Succès : L'artefact modèle a été sauvegardé sous le nom '{artifact_filename}'\")\n",
    "print(\"\\n--- FIN DU PROJET ---\")"
   ]
  }
 ],
 "metadata": {
  "kernelspec": {
   "display_name": ".venv",
   "language": "python",
   "name": "python3"
  },
  "language_info": {
   "codemirror_mode": {
    "name": "ipython",
    "version": 3
   },
   "file_extension": ".py",
   "mimetype": "text/x-python",
   "name": "python",
   "nbconvert_exporter": "python",
   "pygments_lexer": "ipython3",
   "version": "3.13.7"
  }
 },
 "nbformat": 4,
 "nbformat_minor": 5
}
