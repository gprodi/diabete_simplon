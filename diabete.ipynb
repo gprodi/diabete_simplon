{
 "cells": [
  {
   "cell_type": "markdown",
   "id": "c17bc7f1",
   "metadata": {},
   "source": [
    "EDA"
   ]
  },
  {
   "cell_type": "markdown",
   "id": "b48b88a8",
   "metadata": {},
   "source": [
    "## charger les bibliotheque necessaire"
   ]
  },
  {
   "cell_type": "code",
   "execution_count": 1,
   "id": "ea27dc96",
   "metadata": {},
   "outputs": [
    {
     "name": "stderr",
     "output_type": "stream",
     "text": [
      "Matplotlib is building the font cache; this may take a moment.\n"
     ]
    }
   ],
   "source": [
    "import pandas as pd\n",
    "import numpy as np\n",
    "import matplotlib.pyplot as plt\n",
    "import seaborn as sns\n",
    "import warnings as wr\n",
    "wr.filterwarnings('ignore')"
   ]
  },
  {
   "cell_type": "markdown",
   "id": "2dd93255",
   "metadata": {},
   "source": [
    "## charger le CSV"
   ]
  },
  {
   "cell_type": "code",
   "execution_count": 3,
   "id": "998e739b",
   "metadata": {},
   "outputs": [
    {
     "name": "stdout",
     "output_type": "stream",
     "text": [
      "   ID  Age  Gender Polyuria Polydipsia sudden weight loss weakness Polyphagia  \\\n",
      "0   1   60  Female      Yes         No                Yes      Yes         No   \n",
      "1   2   85    Male      Yes        Yes                Yes      Yes        Yes   \n",
      "2   3   48    Male      Yes        Yes                Yes       No        Yes   \n",
      "3   4   41    Male      Yes        Yes                Yes      Yes        Yes   \n",
      "4   5   57    Male       No         No                 No       No        Yes   \n",
      "\n",
      "  Genital thrush visual blurring Itching Irritability delayed healing  \\\n",
      "0            Yes             Yes     Yes           No             Yes   \n",
      "1            Yes             Yes     Yes           No             Yes   \n",
      "2            Yes              No      No           No             Yes   \n",
      "3            Yes             Yes     Yes          Yes              No   \n",
      "4             No             Yes      No           No              No   \n",
      "\n",
      "  partial paresis muscle stiffness Alopecia Obesity     class  \n",
      "0             Yes              Yes       No     Yes  Positive  \n",
      "1             Yes              Yes       No      No  Positive  \n",
      "2              No               No       No      No  Positive  \n",
      "3              No               No       No     Yes  Positive  \n",
      "4              No              Yes       No      No  Negative  \n"
     ]
    }
   ],
   "source": [
    "df = pd.read_csv(\"data/train_with_id.csv\")\n",
    "print(df.head())"
   ]
  },
  {
   "cell_type": "markdown",
   "id": "8344a907",
   "metadata": {},
   "source": [
    "## Analyse des données"
   ]
  },
  {
   "cell_type": "code",
   "execution_count": 7,
   "id": "a0fc4c10",
   "metadata": {},
   "outputs": [
    {
     "name": "stdout",
     "output_type": "stream",
     "text": [
      "<class 'pandas.core.frame.DataFrame'>\n",
      "RangeIndex: 416 entries, 0 to 415\n",
      "Data columns (total 18 columns):\n",
      " #   Column              Non-Null Count  Dtype \n",
      "---  ------              --------------  ----- \n",
      " 0   ID                  416 non-null    int64 \n",
      " 1   Age                 416 non-null    int64 \n",
      " 2   Gender              416 non-null    object\n",
      " 3   Polyuria            416 non-null    object\n",
      " 4   Polydipsia          416 non-null    object\n",
      " 5   sudden weight loss  416 non-null    object\n",
      " 6   weakness            416 non-null    object\n",
      " 7   Polyphagia          416 non-null    object\n",
      " 8   Genital thrush      416 non-null    object\n",
      " 9   visual blurring     416 non-null    object\n",
      " 10  Itching             416 non-null    object\n",
      " 11  Irritability        416 non-null    object\n",
      " 12  delayed healing     416 non-null    object\n",
      " 13  partial paresis     416 non-null    object\n",
      " 14  muscle stiffness    416 non-null    object\n",
      " 15  Alopecia            416 non-null    object\n",
      " 16  Obesity             416 non-null    object\n",
      " 17  class               416 non-null    object\n",
      "dtypes: int64(2), object(16)\n",
      "memory usage: 58.6+ KB\n"
     ]
    },
    {
     "data": {
      "text/plain": [
       "['ID',\n",
       " 'Age',\n",
       " 'Gender',\n",
       " 'Polyuria',\n",
       " 'Polydipsia',\n",
       " 'sudden weight loss',\n",
       " 'weakness',\n",
       " 'Polyphagia',\n",
       " 'Genital thrush',\n",
       " 'visual blurring',\n",
       " 'Itching',\n",
       " 'Irritability',\n",
       " 'delayed healing',\n",
       " 'partial paresis',\n",
       " 'muscle stiffness',\n",
       " 'Alopecia',\n",
       " 'Obesity',\n",
       " 'class']"
      ]
     },
     "execution_count": 7,
     "metadata": {},
     "output_type": "execute_result"
    }
   ],
   "source": [
    "df.shape\n",
    "df.info()\n",
    "df.describe().T\n",
    "df.columns.tolist()"
   ]
  }
 ],
 "metadata": {
  "kernelspec": {
   "display_name": ".venv",
   "language": "python",
   "name": "python3"
  },
  "language_info": {
   "codemirror_mode": {
    "name": "ipython",
    "version": 3
   },
   "file_extension": ".py",
   "mimetype": "text/x-python",
   "name": "python",
   "nbconvert_exporter": "python",
   "pygments_lexer": "ipython3",
   "version": "3.13.7"
  }
 },
 "nbformat": 4,
 "nbformat_minor": 5
}
