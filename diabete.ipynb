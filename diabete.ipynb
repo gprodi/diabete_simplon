{
 "cells": [
  {
   "cell_type": "markdown",
   "id": "c17bc7f1",
   "metadata": {},
   "source": [
    "EDA"
   ]
  },
  {
   "cell_type": "code",
   "execution_count": null,
   "id": "ea27dc96",
   "metadata": {},
   "outputs": [
    {
     "ename": "",
     "evalue": "",
     "output_type": "error",
     "traceback": [
      "\u001b[1;31mLes cellules en cours d’exécution avec .venv (Python 3.13.7) nécessitent le package ipykernel.\n",
      "\u001b[1;31mInstallez « ipykernel » dans l’environnement Python. \n",
      "\u001b[1;31mCommande : « \"c:/Users/Apprenant/Desktop/Simplon/Dev IA/learning/jour 16  - Machine learning/.venv/Scripts/python.exe\" -m pip install ipykernel -U --force-reinstall »"
     ]
    }
   ],
   "source": [
    "import pandas as pd\n",
    "import numpy as np\n",
    "import matplotlib.pyplot as plt\n",
    "import seaborn as sns\n",
    "import warnings as wr\n",
    "wr.filterwarnings('ignore')"
   ]
  }
 ],
 "metadata": {
  "kernelspec": {
   "display_name": ".venv",
   "language": "python",
   "name": "python3"
  },
  "language_info": {
   "name": "python",
   "version": "3.13.7"
  }
 },
 "nbformat": 4,
 "nbformat_minor": 5
}
