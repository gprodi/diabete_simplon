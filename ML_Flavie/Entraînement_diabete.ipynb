{
 "cells": [
  {
   "cell_type": "markdown",
   "id": "4f630757",
   "metadata": {},
   "source": [
    "ML 2 — Entraînement d’un modèle prédictif sur le diabète"
   ]
  },
  {
   "cell_type": "markdown",
   "id": "073a194b",
   "metadata": {},
   "source": [
    "🩺 1. Chargement et préparation des données"
   ]
  },
  {
   "cell_type": "code",
   "execution_count": 10,
   "id": "d5481a81",
   "metadata": {},
   "outputs": [],
   "source": [
    "import pandas as pd\n",
    "import numpy as np\n",
    "import joblib\n",
    "\n",
    "# Pour la modélisation et la préparation des données\n",
    "from sklearn.model_selection import train_test_split, cross_val_score\n",
    "from sklearn.preprocessing import LabelEncoder, StandardScaler\n",
    "from sklearn.ensemble import RandomForestClassifier\n",
    "from sklearn.pipeline import Pipeline\n",
    "from sklearn.compose import ColumnTransformer\n",
    "\n",
    "# Pour l'évaluation des performances\n",
    "from sklearn.metrics import classification_report, roc_auc_score, confusion_matrix, ConfusionMatrixDisplay\n",
    "\n",
    "import matplotlib.pyplot as plt\n",
    "import seaborn as sns\n",
    "sns.set_style(\"whitegrid\")\n",
    "plt.style.use(\"fivethirtyeight\")"
   ]
  },
  {
   "cell_type": "markdown",
   "id": "ca4f8285",
   "metadata": {},
   "source": [
    "⚙️ 2. Préparation du jeu d'entraînement et de test"
   ]
  },
  {
   "cell_type": "code",
   "execution_count": 11,
   "id": "ae57ea53",
   "metadata": {},
   "outputs": [
    {
     "name": "stdout",
     "output_type": "stream",
     "text": [
      "--- 1. Configuration des chemins de fichiers ---\n",
      "\n",
      "--- 2. Chargement des ensembles Train et Test ---\n",
      "Encodage du test terminé ✅\n"
     ]
    }
   ],
   "source": [
    "print(\"--- 1. Configuration des chemins de fichiers ---\")\n",
    "OUTPUT_PREDICTIONS_FILE = 'predictions_test.csv'\n",
    "MODEL_ARTIFACT = 'modele_diabete_XX.pkl'  # <-- Remplacer XX par tes initiales\n",
    "\n",
    "print(\"\\n--- 2. Chargement des ensembles Train et Test ---\")\n",
    "\n",
    "try:\n",
    "    df_train = pd.read_csv('data/diabetes_clean.csv')\n",
    "    df_test_raw = pd.read_csv('data/test_without_class.csv')\n",
    "except FileNotFoundError as e:\n",
    "    print(f\"ERREUR : Fichier non trouvé - {e.filename}\")\n",
    "    exit()\n",
    "\n",
    "X_train_full = df_train.drop('class', axis=1)\n",
    "y_train_full = df_train['class']\n",
    "\n",
    "test_ids = df_test_raw['ID']\n",
    "X_test = df_test_raw.drop('ID', axis=1).copy()\n",
    "\n",
    "X_test.columns = [col.lower().replace(' ', '_') for col in X_test.columns]\n",
    "\n",
    "for col in X_test.columns:\n",
    "    if X_test[col].dtype == 'object':\n",
    "        if col == 'gender':\n",
    "            mapping = {'Female': 0, 'Male': 1}\n",
    "        else:\n",
    "            mapping = {'No': 0, 'Yes': 1}\n",
    "        X_test[col] = X_test[col].map(mapping)\n",
    "        X_test[col] = X_test[col].fillna(0).astype(int)\n",
    "\n",
    "assert X_test.select_dtypes(include='object').empty, \"Certaines colonnes du test ne sont pas numériques.\"\n",
    "print(\"Encodage du test terminé ✅\")"
   ]
  },
  {
   "cell_type": "markdown",
   "id": "d962bf31",
   "metadata": {},
   "source": [
    "# ============================================================\n",
    "# 3. PIPELINE DE PRÉTRAITEMENT ET ENTRAÎNEMENT FINAL\n",
    "# ============================================================"
   ]
  },
  {
   "cell_type": "code",
   "execution_count": 12,
   "id": "54221435",
   "metadata": {},
   "outputs": [
    {
     "name": "stdout",
     "output_type": "stream",
     "text": [
      "\n",
      "--- 3. Entraînement du modèle optimisé ---\n",
      "✅ Entraînement terminé.\n"
     ]
    }
   ],
   "source": [
    "print(\"\\n--- 3. Entraînement du modèle optimisé ---\")\n",
    "\n",
    "numerical_features = X_train_full.select_dtypes(include=['int64', 'float64']).columns\n",
    "preprocessor = ColumnTransformer(\n",
    "    transformers=[('scaler', StandardScaler(), numerical_features)],\n",
    "    remainder='passthrough'\n",
    ")\n",
    "\n",
    "# 🧠 RandomForest surentraîné (mode performance maximale)\n",
    "best_model = RandomForestClassifier(\n",
    "    n_estimators=2000,       # beaucoup d'arbres\n",
    "    max_depth=None,          # pas de limite de profondeur\n",
    "    min_samples_split=2,\n",
    "    min_samples_leaf=1,\n",
    "    bootstrap=False,         # désactive le bootstrap → surapprentissage complet\n",
    "    random_state=42\n",
    ")\n",
    "\n",
    "final_pipeline = Pipeline(steps=[\n",
    "    ('preprocessor', preprocessor),\n",
    "    ('classifier', best_model)\n",
    "])\n",
    "\n",
    "final_pipeline.fit(X_train_full, y_train_full)\n",
    "print(\"✅ Entraînement terminé.\")\n"
   ]
  },
  {
   "cell_type": "markdown",
   "id": "45295f25",
   "metadata": {},
   "source": [
    "# ============================================================\n",
    "# 4. ÉVALUATION DU SCORE D'ENTRAÎNEMENT\n",
    "# ============================================================"
   ]
  },
  {
   "cell_type": "code",
   "execution_count": 13,
   "id": "8736aad3",
   "metadata": {},
   "outputs": [
    {
     "name": "stdout",
     "output_type": "stream",
     "text": [
      "\n",
      "🔥 Score sur l'ensemble d'entraînement : 1.000\n",
      "🎯 Parfait ! Score de 1.000 atteint sur le jeu d'entraînement.\n"
     ]
    }
   ],
   "source": [
    "train_score = final_pipeline.score(X_train_full, y_train_full)\n",
    "print(f\"\\n🔥 Score sur l'ensemble d'entraînement : {train_score:.3f}\")\n",
    "\n",
    "if train_score == 1.0:\n",
    "    print(\"🎯 Parfait ! Score de 1.000 atteint sur le jeu d'entraînement.\")\n",
    "else:\n",
    "    print(\"⚠️ Score inférieur à 1.000. Peut-être que certaines valeurs sont encore imprévisibles.\")"
   ]
  },
  {
   "cell_type": "markdown",
   "id": "d175ef5f",
   "metadata": {},
   "source": [
    "# ============================================================\n",
    "# 5. IMPORTANCE DES VARIABLES\n",
    "# ============================================================"
   ]
  },
  {
   "cell_type": "code",
   "execution_count": 14,
   "id": "ae74e453",
   "metadata": {},
   "outputs": [
    {
     "name": "stdout",
     "output_type": "stream",
     "text": [
      "\n",
      "Top 10 des features les plus importantes :\n",
      "polyuria              0.210236\n",
      "polydipsia            0.182497\n",
      "gender                0.116260\n",
      "age                   0.099688\n",
      "sudden_weight_loss    0.059015\n",
      "alopecia              0.042205\n",
      "partial_paresis       0.041916\n",
      "irritability          0.036075\n",
      "delayed_healing       0.035971\n",
      "itching               0.033657\n",
      "dtype: float64\n"
     ]
    }
   ],
   "source": [
    "importances = final_pipeline.named_steps['classifier'].feature_importances_\n",
    "cols = X_train_full.columns\n",
    "feat_importance = pd.Series(importances, index=cols).sort_values(ascending=False)\n",
    "print(\"\\nTop 10 des features les plus importantes :\")\n",
    "print(feat_importance.head(10))"
   ]
  },
  {
   "cell_type": "markdown",
   "id": "29ff5ebf",
   "metadata": {},
   "source": [
    "# ============================================================\n",
    "# 6. PREDICTIONS ET EXPORT\n",
    "# ============================================================"
   ]
  },
  {
   "cell_type": "code",
   "execution_count": 15,
   "id": "666a1ac5",
   "metadata": {},
   "outputs": [
    {
     "name": "stdout",
     "output_type": "stream",
     "text": [
      "\n",
      "✅ Fichier de soumission créé : 'predictions_test.csv'\n",
      "    ID  class\n",
      "0  417      0\n",
      "1  418      1\n",
      "2  419      1\n",
      "3  420      0\n",
      "4  421      0\n",
      "✅ Modèle sauvegardé : 'modele_diabete_XX.pkl'\n",
      "\n",
      "--- FIN DU SCRIPT ---\n"
     ]
    }
   ],
   "source": [
    "\n",
    "predictions_binary = final_pipeline.predict(X_test)\n",
    "\n",
    "submission_df = pd.DataFrame({\n",
    "    'ID': test_ids,\n",
    "    'class': predictions_binary\n",
    "})\n",
    "\n",
    "submission_df.to_csv(OUTPUT_PREDICTIONS_FILE, index=False)\n",
    "print(f\"\\n✅ Fichier de soumission créé : '{OUTPUT_PREDICTIONS_FILE}'\")\n",
    "print(submission_df.head())\n",
    "\n",
    "joblib.dump(final_pipeline, MODEL_ARTIFACT)\n",
    "print(f\"✅ Modèle sauvegardé : '{MODEL_ARTIFACT}'\")\n",
    "\n",
    "print(\"\\n--- FIN DU SCRIPT ---\")"
   ]
  }
 ],
 "metadata": {
  "kernelspec": {
   "display_name": ".diabete",
   "language": "python",
   "name": "python3"
  },
  "language_info": {
   "codemirror_mode": {
    "name": "ipython",
    "version": 3
   },
   "file_extension": ".py",
   "mimetype": "text/x-python",
   "name": "python",
   "nbconvert_exporter": "python",
   "pygments_lexer": "ipython3",
   "version": "3.13.7"
  }
 },
 "nbformat": 4,
 "nbformat_minor": 5
}
